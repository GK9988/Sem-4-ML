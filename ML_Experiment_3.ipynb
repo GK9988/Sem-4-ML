{
  "nbformat": 4,
  "nbformat_minor": 0,
  "metadata": {
    "colab": {
      "provenance": []
    },
    "kernelspec": {
      "name": "python3",
      "display_name": "Python 3"
    },
    "language_info": {
      "name": "python"
    }
  },
  "cells": [
    {
      "cell_type": "markdown",
      "source": [
        "Aim :- Write a python code for dealing with missing values and encoding of categorical data"
      ],
      "metadata": {
        "id": "gwukFrYX5sVj"
      }
    },
    {
      "cell_type": "code",
      "source": [
        " "
      ],
      "metadata": {
        "id": "Lg5YH-Qz7GLB"
      },
      "execution_count": null,
      "outputs": []
    },
    {
      "cell_type": "code",
      "source": [
        "import numpy as np\n",
        "import pandas as pd\n",
        "\n",
        "data = pd.read_csv(\"DataPreprocessing.csv\")\n",
        "\n",
        "#df = pd.DataFrame(data)\n",
        "\n",
        "print(data.isnull().sum())"
      ],
      "metadata": {
        "colab": {
          "base_uri": "https://localhost:8080/"
        },
        "id": "qtkRBpWX5xda",
        "outputId": "8635830b-e035-449d-8c84-71dd284568a1"
      },
      "execution_count": null,
      "outputs": [
        {
          "output_type": "stream",
          "name": "stdout",
          "text": [
            "Id                0\n",
            "MSSubClass        3\n",
            "LotFrontage     227\n",
            "LotArea           0\n",
            "LotConfig         0\n",
            "Neighborhood      0\n",
            "BldgType          0\n",
            "HouseStyle        0\n",
            "OverallQual       4\n",
            "OverallCond       0\n",
            "YearBuilt         0\n",
            "RoofStyle         0\n",
            "TotalBsmtSF       1\n",
            "GrLivArea         0\n",
            "BedroomAbvGr      0\n",
            "TotRmsAbvGrd      0\n",
            "GarageArea        1\n",
            "dtype: int64\n"
          ]
        }
      ]
    },
    {
      "cell_type": "code",
      "source": [
        "data.dtypes"
      ],
      "metadata": {
        "colab": {
          "base_uri": "https://localhost:8080/"
        },
        "id": "pQ4wcaiB76ji",
        "outputId": "d670bfcd-af22-44a2-e326-8544fa58efd7"
      },
      "execution_count": null,
      "outputs": [
        {
          "output_type": "execute_result",
          "data": {
            "text/plain": [
              "Id                int64\n",
              "MSSubClass      float64\n",
              "LotFrontage      object\n",
              "LotArea           int64\n",
              "LotConfig        object\n",
              "Neighborhood     object\n",
              "BldgType         object\n",
              "HouseStyle       object\n",
              "OverallQual      object\n",
              "OverallCond      object\n",
              "YearBuilt         int64\n",
              "RoofStyle        object\n",
              "TotalBsmtSF     float64\n",
              "GrLivArea         int64\n",
              "BedroomAbvGr     object\n",
              "TotRmsAbvGrd      int64\n",
              "GarageArea      float64\n",
              "dtype: object"
            ]
          },
          "metadata": {},
          "execution_count": 7
        }
      ]
    },
    {
      "cell_type": "code",
      "source": [
        "a = data.info('Dtype')\n",
        "print(a)"
      ],
      "metadata": {
        "colab": {
          "base_uri": "https://localhost:8080/"
        },
        "id": "xutZVo3i8J7C",
        "outputId": "05919001-6291-465d-bbc8-06d6fa5e706b"
      },
      "execution_count": null,
      "outputs": [
        {
          "output_type": "stream",
          "name": "stdout",
          "text": [
            "<class 'pandas.core.frame.DataFrame'>\n",
            "RangeIndex: 1459 entries, 0 to 1458\n",
            "Data columns (total 17 columns):\n",
            " #   Column        Non-Null Count  Dtype  \n",
            "---  ------        --------------  -----  \n",
            " 0   Id            1459 non-null   int64  \n",
            " 1   MSSubClass    1456 non-null   float64\n",
            " 2   LotFrontage   1232 non-null   object \n",
            " 3   LotArea       1459 non-null   int64  \n",
            " 4   LotConfig     1459 non-null   object \n",
            " 5   Neighborhood  1459 non-null   object \n",
            " 6   BldgType      1459 non-null   object \n",
            " 7   HouseStyle    1459 non-null   object \n",
            " 8   OverallQual   1455 non-null   object \n",
            " 9   OverallCond   1459 non-null   object \n",
            " 10  YearBuilt     1459 non-null   int64  \n",
            " 11  RoofStyle     1459 non-null   object \n",
            " 12  TotalBsmtSF   1458 non-null   float64\n",
            " 13  GrLivArea     1459 non-null   int64  \n",
            " 14  BedroomAbvGr  1459 non-null   object \n",
            " 15  TotRmsAbvGrd  1459 non-null   int64  \n",
            " 16  GarageArea    1458 non-null   float64\n",
            "dtypes: float64(3), int64(5), object(9)\n",
            "memory usage: 193.9+ KB\n"
          ]
        }
      ]
    },
    {
      "cell_type": "code",
      "source": [
        "print('Id',np.unique(data['Id']))\n",
        "print('LotArea',np.unique(data['LotArea']))\n",
        "print('YearBuilt',np.unique(data['YearBuilt']))\n",
        "print('GrLivArea',np.unique(data['GrLivArea']))"
      ],
      "metadata": {
        "colab": {
          "base_uri": "https://localhost:8080/"
        },
        "id": "_WqmGFJP8017",
        "outputId": "c117eb0c-c7d3-43cb-914a-dc84ba8dff63"
      },
      "execution_count": null,
      "outputs": [
        {
          "output_type": "stream",
          "name": "stdout",
          "text": [
            "Id [1461 1462 1463 ... 2917 2918 2919]\n",
            "LotArea [ 1470  1476  1477 ... 50102 51974 56600]\n",
            "YearBuilt [1879 1880 1890 1895 1896 1900 1901 1902 1905 1907 1910 1912 1914 1915\n",
            " 1916 1917 1918 1919 1920 1921 1922 1923 1924 1925 1926 1927 1928 1929\n",
            " 1930 1931 1932 1934 1935 1936 1937 1938 1939 1940 1941 1942 1945 1946\n",
            " 1947 1948 1949 1950 1951 1952 1953 1954 1955 1956 1957 1958 1959 1960\n",
            " 1961 1962 1963 1964 1965 1966 1967 1968 1969 1970 1971 1972 1973 1974\n",
            " 1975 1976 1977 1978 1979 1980 1981 1982 1983 1984 1985 1986 1987 1988\n",
            " 1989 1990 1991 1992 1993 1994 1995 1996 1997 1998 1999 2000 2001 2002\n",
            " 2003 2004 2005 2006 2007 2008 2009 2010 2030 2120]\n",
            "GrLivArea [ 407  492  498  540  572  599  612  630  640  641  660  666  670  672\n",
            "  704  713  715  720  725  729  732  733  756  759  765  768  784  792\n",
            "  793  796  797  808  810  816  819  825  832  833  836  840  844  845\n",
            "  846  848  856  861  864  865  868  869  872  874  875  876  879  882\n",
            "  883  884  887  888  889  890  892  894  896  897  898  899  904  906\n",
            "  907  908  909  912  914  918  919  922  924  925  926  930  934  936\n",
            "  941  943  945  948  949  950  951  952  960  964  965  967  968  970\n",
            "  972  976  980  984  985  987  988  990  992  995  998  999 1000 1001\n",
            " 1004 1005 1008 1009 1012 1013 1014 1017 1020 1022 1024 1025 1026 1027\n",
            " 1030 1031 1032 1033 1034 1036 1037 1038 1039 1040 1041 1042 1043 1044\n",
            " 1045 1049 1050 1051 1052 1053 1054 1055 1056 1057 1059 1060 1061 1062\n",
            " 1064 1068 1069 1072 1073 1074 1075 1076 1078 1079 1080 1081 1082 1083\n",
            " 1086 1088 1089 1090 1091 1092 1093 1094 1096 1097 1098 1100 1102 1103\n",
            " 1104 1105 1107 1112 1114 1116 1117 1118 1119 1120 1124 1126 1127 1128\n",
            " 1131 1132 1133 1136 1137 1138 1140 1141 1142 1143 1144 1145 1146 1149\n",
            " 1150 1151 1152 1154 1158 1159 1160 1162 1169 1170 1172 1173 1174 1175\n",
            " 1176 1177 1178 1179 1180 1182 1183 1187 1188 1189 1190 1191 1193 1195\n",
            " 1196 1200 1202 1204 1206 1207 1208 1209 1210 1211 1214 1215 1216 1217\n",
            " 1218 1220 1222 1223 1224 1226 1228 1229 1232 1236 1238 1239 1240 1242\n",
            " 1245 1246 1248 1251 1254 1256 1258 1260 1264 1266 1268 1269 1270 1273\n",
            " 1274 1278 1280 1281 1282 1284 1285 1287 1288 1290 1292 1293 1295 1296\n",
            " 1298 1299 1302 1304 1306 1308 1310 1312 1313 1315 1316 1320 1321 1322\n",
            " 1323 1324 1325 1326 1328 1329 1330 1332 1334 1335 1336 1337 1338 1340\n",
            " 1341 1342 1344 1346 1347 1350 1351 1352 1353 1355 1356 1358 1360 1361\n",
            " 1362 1364 1365 1367 1368 1369 1370 1372 1373 1374 1375 1376 1377 1378\n",
            " 1380 1382 1383 1384 1387 1388 1390 1392 1394 1395 1396 1398 1400 1402\n",
            " 1403 1404 1405 1408 1409 1411 1414 1416 1417 1418 1419 1422 1424 1425\n",
            " 1426 1427 1428 1430 1432 1433 1434 1435 1436 1440 1442 1444 1445 1447\n",
            " 1448 1450 1452 1453 1455 1456 1458 1460 1461 1463 1464 1465 1468 1470\n",
            " 1472 1474 1475 1476 1478 1479 1480 1482 1483 1484 1486 1488 1489 1490\n",
            " 1491 1492 1494 1495 1496 1497 1498 1499 1500 1501 1504 1506 1508 1509\n",
            " 1510 1511 1512 1513 1514 1515 1516 1518 1521 1522 1523 1524 1525 1527\n",
            " 1528 1530 1531 1534 1535 1536 1537 1538 1540 1542 1544 1546 1548 1549\n",
            " 1550 1551 1553 1554 1556 1557 1558 1560 1561 1564 1565 1566 1567 1568\n",
            " 1570 1573 1575 1576 1577 1578 1580 1582 1584 1585 1586 1587 1588 1589\n",
            " 1590 1592 1594 1595 1596 1598 1600 1601 1602 1603 1604 1606 1607 1608\n",
            " 1609 1610 1611 1612 1614 1615 1618 1620 1621 1624 1625 1626 1627 1628\n",
            " 1629 1630 1632 1633 1636 1638 1639 1640 1641 1642 1643 1644 1645 1646\n",
            " 1647 1648 1650 1651 1652 1653 1654 1655 1656 1657 1658 1659 1660 1662\n",
            " 1663 1664 1666 1668 1669 1670 1671 1672 1673 1675 1676 1677 1678 1680\n",
            " 1682 1685 1686 1688 1689 1690 1691 1692 1694 1696 1698 1700 1701 1702\n",
            " 1707 1709 1710 1712 1714 1716 1717 1718 1720 1721 1724 1725 1726 1728\n",
            " 1729 1730 1731 1733 1734 1736 1737 1738 1740 1743 1746 1749 1753 1755\n",
            " 1759 1760 1762 1764 1766 1768 1770 1771 1772 1773 1774 1775 1776 1778\n",
            " 1779 1780 1782 1786 1789 1790 1792 1795 1797 1798 1800 1801 1802 1803\n",
            " 1806 1808 1809 1811 1812 1816 1818 1820 1822 1823 1824 1827 1828 1829\n",
            " 1830 1832 1836 1837 1838 1842 1844 1846 1848 1851 1857 1861 1864 1866\n",
            " 1868 1870 1872 1873 1874 1875 1876 1877 1879 1880 1882 1884 1889 1891\n",
            " 1892 1898 1902 1906 1909 1914 1916 1920 1921 1922 1930 1932 1934 1938\n",
            " 1939 1944 1947 1948 1949 1950 1951 1952 1955 1958 1960 1962 1964 1966\n",
            " 1967 1969 1976 1977 1978 1981 1982 1984 1986 1988 1991 1992 1995 2000\n",
            " 2004 2006 2007 2009 2014 2016 2020 2032 2034 2036 2037 2039 2042 2044\n",
            " 2046 2048 2049 2050 2052 2061 2063 2064 2067 2068 2071 2075 2088 2091\n",
            " 2098 2100 2104 2122 2125 2128 2133 2140 2152 2154 2161 2168 2172 2177\n",
            " 2180 2184 2197 2199 2200 2202 2206 2212 2214 2225 2228 2232 2233 2234\n",
            " 2237 2250 2253 2256 2264 2267 2268 2276 2279 2283 2288 2290 2294 2299\n",
            " 2312 2314 2315 2318 2322 2327 2331 2332 2334 2338 2340 2349 2350 2358\n",
            " 2362 2365 2373 2377 2385 2389 2393 2400 2411 2422 2432 2439 2443 2448\n",
            " 2452 2454 2461 2464 2470 2473 2475 2480 2486 2490 2492 2494 2495 2497\n",
            " 2499 2500 2501 2503 2520 2522 2538 2541 2544 2550 2551 2552 2559 2582\n",
            " 2589 2592 2640 2646 2649 2650 2654 2656 2673 2674 2683 2687 2690 2696\n",
            " 2698 2726 2748 2758 2772 2786 2787 2790 2795 2798 2799 2814 2826 2840\n",
            " 2855 2944 2956 3005 3078 3086 3390 3500 3672 3820 5095]\n"
          ]
        }
      ]
    },
    {
      "cell_type": "code",
      "source": [
        "data.LotFrontage.unique()\n",
        "data.replace([\":-\",\"?\",\"_\",\"__\",\"-\",\"#\",\"##\",\"Na\",\"Nan\"],np.nan,inplace = True)\n",
        "print(data.isnull().sum())\n",
        "print(data.info())"
      ],
      "metadata": {
        "colab": {
          "base_uri": "https://localhost:8080/"
        },
        "id": "Q3dNF-6m_ouC",
        "outputId": "d925c67f-3903-49a4-9afd-24c846aeba64"
      },
      "execution_count": null,
      "outputs": [
        {
          "output_type": "stream",
          "name": "stdout",
          "text": [
            "Id              0\n",
            "MSSubClass      0\n",
            "LotFrontage     0\n",
            "LotArea         0\n",
            "LotConfig       0\n",
            "Neighborhood    0\n",
            "BldgType        0\n",
            "HouseStyle      4\n",
            "OverallQual     5\n",
            "OverallCond     1\n",
            "YearBuilt       0\n",
            "RoofStyle       1\n",
            "TotalBsmtSF     1\n",
            "GrLivArea       0\n",
            "BedroomAbvGr    2\n",
            "TotRmsAbvGrd    0\n",
            "GarageArea      1\n",
            "dtype: int64\n",
            "<class 'pandas.core.frame.DataFrame'>\n",
            "RangeIndex: 1459 entries, 0 to 1458\n",
            "Data columns (total 17 columns):\n",
            " #   Column        Non-Null Count  Dtype  \n",
            "---  ------        --------------  -----  \n",
            " 0   Id            1459 non-null   int64  \n",
            " 1   MSSubClass    1459 non-null   float64\n",
            " 2   LotFrontage   1459 non-null   object \n",
            " 3   LotArea       1459 non-null   int64  \n",
            " 4   LotConfig     1459 non-null   object \n",
            " 5   Neighborhood  1459 non-null   object \n",
            " 6   BldgType      1459 non-null   object \n",
            " 7   HouseStyle    1455 non-null   object \n",
            " 8   OverallQual   1454 non-null   object \n",
            " 9   OverallCond   1458 non-null   object \n",
            " 10  YearBuilt     1459 non-null   int64  \n",
            " 11  RoofStyle     1458 non-null   object \n",
            " 12  TotalBsmtSF   1458 non-null   float64\n",
            " 13  GrLivArea     1459 non-null   int64  \n",
            " 14  BedroomAbvGr  1457 non-null   object \n",
            " 15  TotRmsAbvGrd  1459 non-null   int64  \n",
            " 16  GarageArea    1458 non-null   float64\n",
            "dtypes: float64(3), int64(5), object(9)\n",
            "memory usage: 193.9+ KB\n",
            "None\n"
          ]
        }
      ]
    },
    {
      "cell_type": "code",
      "source": [
        "data.LotFrontage.unique()"
      ],
      "metadata": {
        "colab": {
          "base_uri": "https://localhost:8080/"
        },
        "id": "5TehM-zHDWj4",
        "outputId": "18c2943a-5911-47fb-d3b1-fec2d1f38851"
      },
      "execution_count": null,
      "outputs": [
        {
          "output_type": "execute_result",
          "data": {
            "text/plain": [
              "array(['80', '84', '74', '78', '43', '75', '63', '85', '70', '26', '21',\n",
              "       '24', '102', '94', '90', '79', '110', '105', '41', '100', '67',\n",
              "       '60', '73', '92', '39', '88', '25', '30', '57', '68', '98', '120',\n",
              "       '87', '119', '65', '81', '56', '69', '50', '53', '52', '51', '72',\n",
              "       '86', '124', '44', '83', '64', '82', '38', '89', '35', '58', '66',\n",
              "       '93', '31', '76', '28', '61', '95', '129', '59', '77', '96', '47',\n",
              "       '34', '117', '48', '62', '42', '106', '112', '32', '115', '71',\n",
              "       '45', '109', '113', '125', '101', '104', '108', '130', '135', '36',\n",
              "       '55', '136', '97', '91', '37', '22', '103', '99', '40', '123',\n",
              "       '54', '107', '150', '160', '195', '128', '33', '118', '134', '155',\n",
              "       '126', '46', '149', '200', '121', '131', '114', '49', '133', '140'],\n",
              "      dtype=object)"
            ]
          },
          "metadata": {},
          "execution_count": 52
        }
      ]
    },
    {
      "cell_type": "code",
      "source": [
        "print(df['MSSubClass'].mode())\n",
        "data['MSSubClass'].fillna(int(df['MSSubClass'].median()),inplace = True)\n",
        "print(data.isnull().sum())"
      ],
      "metadata": {
        "colab": {
          "base_uri": "https://localhost:8080/"
        },
        "id": "r9bWl7r9CyLJ",
        "outputId": "2a679657-debf-4669-a28b-56d4c857ac80"
      },
      "execution_count": null,
      "outputs": [
        {
          "output_type": "stream",
          "name": "stdout",
          "text": [
            "0    20.0\n",
            "dtype: float64\n",
            "Id              0\n",
            "MSSubClass      0\n",
            "LotFrontage     0\n",
            "LotArea         0\n",
            "LotConfig       0\n",
            "Neighborhood    0\n",
            "BldgType        0\n",
            "HouseStyle      4\n",
            "OverallQual     5\n",
            "OverallCond     1\n",
            "YearBuilt       0\n",
            "RoofStyle       1\n",
            "TotalBsmtSF     1\n",
            "GrLivArea       0\n",
            "BedroomAbvGr    2\n",
            "TotRmsAbvGrd    0\n",
            "GarageArea      1\n",
            "dtype: int64\n"
          ]
        }
      ]
    },
    {
      "cell_type": "code",
      "source": [
        "data['LotFrontage'].fillna(str('84'),inplace = True)\n",
        "print(data.isnull().sum())\n",
        "print(data.dtypes)"
      ],
      "metadata": {
        "colab": {
          "base_uri": "https://localhost:8080/"
        },
        "id": "70XeZ_mlEcHY",
        "outputId": "de977e8e-9da0-45e3-f35d-8a2b663b9ac6"
      },
      "execution_count": null,
      "outputs": [
        {
          "output_type": "stream",
          "name": "stdout",
          "text": [
            "Id              0\n",
            "MSSubClass      0\n",
            "LotFrontage     0\n",
            "LotArea         0\n",
            "LotConfig       0\n",
            "Neighborhood    0\n",
            "BldgType        0\n",
            "HouseStyle      4\n",
            "OverallQual     5\n",
            "OverallCond     1\n",
            "YearBuilt       0\n",
            "RoofStyle       1\n",
            "TotalBsmtSF     1\n",
            "GrLivArea       0\n",
            "BedroomAbvGr    2\n",
            "TotRmsAbvGrd    0\n",
            "GarageArea      1\n",
            "dtype: int64\n",
            "Id                int64\n",
            "MSSubClass      float64\n",
            "LotFrontage      object\n",
            "LotArea           int64\n",
            "LotConfig        object\n",
            "Neighborhood     object\n",
            "BldgType         object\n",
            "HouseStyle       object\n",
            "OverallQual      object\n",
            "OverallCond      object\n",
            "YearBuilt         int64\n",
            "RoofStyle        object\n",
            "TotalBsmtSF     float64\n",
            "GrLivArea         int64\n",
            "BedroomAbvGr     object\n",
            "TotRmsAbvGrd      int64\n",
            "GarageArea      float64\n",
            "dtype: object\n"
          ]
        }
      ]
    },
    {
      "cell_type": "code",
      "source": [
        "data.BldgType.unique()\n",
        "data['BldgType'].fillna(str('TwnhsE'),inplace = True)\n"
      ],
      "metadata": {
        "id": "Lg4JYP2PGdnw"
      },
      "execution_count": null,
      "outputs": []
    },
    {
      "cell_type": "code",
      "source": [
        "data.HouseStyle.unique()"
      ],
      "metadata": {
        "colab": {
          "base_uri": "https://localhost:8080/"
        },
        "id": "CDRznjraHAmn",
        "outputId": "caaa9526-205d-40c4-a821-7a5e00a5e52d"
      },
      "execution_count": null,
      "outputs": [
        {
          "output_type": "execute_result",
          "data": {
            "text/plain": [
              "array(['1Story', '2Story', nan, 'SLvl', '__', '1.5Fin', 'SFoyer',\n",
              "       '2.5Unf', '1.5Unf'], dtype=object)"
            ]
          },
          "metadata": {},
          "execution_count": 49
        }
      ]
    },
    {
      "cell_type": "code",
      "source": [
        "from sklearn import preprocessing\n",
        "my_label = preprocessing.LabelEncoder()\n",
        "df = pd.read_csv('customer.csv')\n",
        "df['purchased'] = my_label.fit_transform(df['purchased'])\n",
        "print(df)"
      ],
      "metadata": {
        "colab": {
          "base_uri": "https://localhost:8080/"
        },
        "id": "MkdAqG7xJY0Q",
        "outputId": "50e32da9-4721-4916-f94a-c87207f3632e"
      },
      "execution_count": null,
      "outputs": [
        {
          "output_type": "stream",
          "name": "stdout",
          "text": [
            "    age  gender   review education  purchased\n",
            "0    30  Female  Average    School          0\n",
            "1    68  Female     Poor        UG          0\n",
            "2    70  Female     Good        PG          0\n",
            "3    72  Female     Good        PG          0\n",
            "4    16  Female  Average        UG          0\n",
            "5    31  Female  Average    School          1\n",
            "6    18    Male     Good    School          0\n",
            "7    60  Female     Poor    School          1\n",
            "8    65  Female  Average        UG          0\n",
            "9    74    Male     Good        UG          1\n",
            "10   98  Female     Good        UG          1\n",
            "11   74    Male     Good        UG          1\n",
            "12   51    Male     Poor    School          0\n",
            "13   57  Female  Average    School          0\n",
            "14   15    Male     Poor        PG          1\n",
            "15   75    Male     Poor        UG          0\n",
            "16   59    Male     Poor        UG          1\n",
            "17   22  Female     Poor        UG          1\n",
            "18   19    Male     Good    School          0\n",
            "19   97    Male     Poor        PG          1\n",
            "20   57  Female  Average    School          1\n",
            "21   32    Male  Average        PG          0\n",
            "22   18  Female     Poor        PG          1\n",
            "23   96  Female     Good    School          0\n",
            "24   16  Female  Average        PG          1\n",
            "25   57  Female     Good    School          0\n",
            "26   53  Female     Poor        PG          0\n",
            "27   69  Female     Poor        PG          0\n",
            "28   48    Male     Poor    School          0\n",
            "29   83  Female  Average        UG          1\n",
            "30   73    Male  Average        UG          0\n",
            "31   22  Female     Poor    School          1\n",
            "32   92    Male  Average        UG          1\n",
            "33   89  Female     Good        PG          1\n",
            "34   86    Male  Average    School          0\n",
            "35   74    Male     Poor    School          1\n",
            "36   34  Female     Good        UG          1\n",
            "37   94    Male  Average        PG          1\n",
            "38   45  Female     Good    School          0\n",
            "39   76    Male     Poor        PG          0\n",
            "40   39    Male     Good    School          0\n",
            "41   23    Male     Good        PG          1\n",
            "42   30  Female     Good        PG          1\n",
            "43   27    Male     Poor        PG          0\n",
            "44   77  Female  Average        UG          0\n",
            "45   61    Male     Poor        PG          1\n",
            "46   64  Female     Poor        PG          0\n",
            "47   38  Female     Good        PG          1\n",
            "48   39  Female     Good        UG          1\n",
            "49   25  Female     Good        UG          0\n"
          ]
        }
      ]
    },
    {
      "cell_type": "code",
      "source": [
        "from sklearn.preprocessing import OrdinalEncoder\n",
        "oe = OrdinalEncoder(categories=[['Poor','Average','Good'],['School','UG','PG']])\n",
        "df[['review','education']] = oe.fit_transform(df[['review','education']])\n",
        "print(df)"
      ],
      "metadata": {
        "colab": {
          "base_uri": "https://localhost:8080/"
        },
        "id": "QV2YVPDCLKLo",
        "outputId": "fde0ed92-d355-42dc-dcfd-55b22f259715"
      },
      "execution_count": null,
      "outputs": [
        {
          "output_type": "stream",
          "name": "stdout",
          "text": [
            "    age  gender  review  education  purchased\n",
            "0    30  Female     1.0        0.0          0\n",
            "1    68  Female     0.0        1.0          0\n",
            "2    70  Female     2.0        2.0          0\n",
            "3    72  Female     2.0        2.0          0\n",
            "4    16  Female     1.0        1.0          0\n",
            "5    31  Female     1.0        0.0          1\n",
            "6    18    Male     2.0        0.0          0\n",
            "7    60  Female     0.0        0.0          1\n",
            "8    65  Female     1.0        1.0          0\n",
            "9    74    Male     2.0        1.0          1\n",
            "10   98  Female     2.0        1.0          1\n",
            "11   74    Male     2.0        1.0          1\n",
            "12   51    Male     0.0        0.0          0\n",
            "13   57  Female     1.0        0.0          0\n",
            "14   15    Male     0.0        2.0          1\n",
            "15   75    Male     0.0        1.0          0\n",
            "16   59    Male     0.0        1.0          1\n",
            "17   22  Female     0.0        1.0          1\n",
            "18   19    Male     2.0        0.0          0\n",
            "19   97    Male     0.0        2.0          1\n",
            "20   57  Female     1.0        0.0          1\n",
            "21   32    Male     1.0        2.0          0\n",
            "22   18  Female     0.0        2.0          1\n",
            "23   96  Female     2.0        0.0          0\n",
            "24   16  Female     1.0        2.0          1\n",
            "25   57  Female     2.0        0.0          0\n",
            "26   53  Female     0.0        2.0          0\n",
            "27   69  Female     0.0        2.0          0\n",
            "28   48    Male     0.0        0.0          0\n",
            "29   83  Female     1.0        1.0          1\n",
            "30   73    Male     1.0        1.0          0\n",
            "31   22  Female     0.0        0.0          1\n",
            "32   92    Male     1.0        1.0          1\n",
            "33   89  Female     2.0        2.0          1\n",
            "34   86    Male     1.0        0.0          0\n",
            "35   74    Male     0.0        0.0          1\n",
            "36   34  Female     2.0        1.0          1\n",
            "37   94    Male     1.0        2.0          1\n",
            "38   45  Female     2.0        0.0          0\n",
            "39   76    Male     0.0        2.0          0\n",
            "40   39    Male     2.0        0.0          0\n",
            "41   23    Male     2.0        2.0          1\n",
            "42   30  Female     2.0        2.0          1\n",
            "43   27    Male     0.0        2.0          0\n",
            "44   77  Female     1.0        1.0          0\n",
            "45   61    Male     0.0        2.0          1\n",
            "46   64  Female     0.0        2.0          0\n",
            "47   38  Female     2.0        2.0          1\n",
            "48   39  Female     2.0        1.0          1\n",
            "49   25  Female     2.0        1.0          0\n"
          ]
        }
      ]
    }
  ]
}