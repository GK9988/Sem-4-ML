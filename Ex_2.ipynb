{
  "nbformat": 4,
  "nbformat_minor": 0,
  "metadata": {
    "colab": {
      "provenance": []
    },
    "kernelspec": {
      "name": "python3",
      "display_name": "Python 3"
    },
    "language_info": {
      "name": "python"
    }
  },
  "cells": [
    {
      "cell_type": "markdown",
      "source": [
        "python program for plotting fundamentls using matplot and seaborn"
      ],
      "metadata": {
        "id": "2m2_92bNXVam"
      }
    },
    {
      "cell_type": "code",
      "source": [
        "import numpy as np\n",
        "a = np.array([12,45,657,345,33,45])\n",
        "b = np.array([[45,768,456,324,78],[34,49,65,234,65]])\n",
        "\n",
        "c = np.array([ [[0,1,2],[2,3,4], [6,7,1]], \n",
        "        [[6,7, 1], [8,9, 2],[9,14, 22]]])\n",
        "\n",
        "print(np.ndim(b))"
      ],
      "metadata": {
        "id": "SQ8e1Y-5Xs2e",
        "colab": {
          "base_uri": "https://localhost:8080/"
        },
        "outputId": "a7297187-7b3b-432f-f1d1-76db76194415"
      },
      "execution_count": null,
      "outputs": [
        {
          "output_type": "stream",
          "name": "stdout",
          "text": [
            "2\n"
          ]
        }
      ]
    },
    {
      "cell_type": "code",
      "source": [
        "import math as mt\n",
        "print(mt.ceil(34.46))\n",
        "\n",
        "print(abs(-89.23))\n",
        "\n",
        "print(mt.factorial(8))\n",
        "x=78.9\n",
        "print(mt.floor(x))\n",
        "\n",
        "print(mt.log10(x))\n",
        "\n",
        "print(mt.pow(3,4))"
      ],
      "metadata": {
        "colab": {
          "base_uri": "https://localhost:8080/"
        },
        "id": "aSacc_yPbA0u",
        "outputId": "939cd018-13df-4097-d90b-cc3f2b18cc58"
      },
      "execution_count": null,
      "outputs": [
        {
          "output_type": "stream",
          "name": "stdout",
          "text": [
            "35\n",
            "89.23\n",
            "40320\n",
            "78\n",
            "1.8970770032094204\n",
            "81.0\n"
          ]
        }
      ]
    },
    {
      "cell_type": "code",
      "source": [
        "x = 3\n",
        "z = mt.pow(x,2) + mt.factorial(5)\n",
        "print(z)"
      ],
      "metadata": {
        "colab": {
          "base_uri": "https://localhost:8080/"
        },
        "id": "SOoydmO_cRM9",
        "outputId": "54f0afe1-89b0-49b0-fc13-d08a93278138"
      },
      "execution_count": null,
      "outputs": [
        {
          "output_type": "stream",
          "name": "stdout",
          "text": [
            "129.0\n"
          ]
        }
      ]
    },
    {
      "cell_type": "code",
      "source": [
        "a = np.array([12,45,657,345,33,45])\n",
        "print(a.mean())\n",
        "print(np.max(a))\n",
        "print(np.min(a))\n",
        "print(sum(a))"
      ],
      "metadata": {
        "colab": {
          "base_uri": "https://localhost:8080/"
        },
        "id": "SLKliW29c5T1",
        "outputId": "0508dd89-87df-4630-d618-a20ab2c131e8"
      },
      "execution_count": null,
      "outputs": [
        {
          "output_type": "stream",
          "name": "stdout",
          "text": [
            "189.5\n",
            "657\n",
            "12\n",
            "1137\n"
          ]
        }
      ]
    },
    {
      "cell_type": "code",
      "source": [
        "np.arange(78,2132,45)"
      ],
      "metadata": {
        "colab": {
          "base_uri": "https://localhost:8080/"
        },
        "id": "HUqI4HZSdk1F",
        "outputId": "b6f1fb42-d9cd-4e2f-ba4e-cea889bbb709"
      },
      "execution_count": null,
      "outputs": [
        {
          "output_type": "execute_result",
          "data": {
            "text/plain": [
              "array([  78,  123,  168,  213,  258,  303,  348,  393,  438,  483,  528,\n",
              "        573,  618,  663,  708,  753,  798,  843,  888,  933,  978, 1023,\n",
              "       1068, 1113, 1158, 1203, 1248, 1293, 1338, 1383, 1428, 1473, 1518,\n",
              "       1563, 1608, 1653, 1698, 1743, 1788, 1833, 1878, 1923, 1968, 2013,\n",
              "       2058, 2103])"
            ]
          },
          "metadata": {},
          "execution_count": 5
        }
      ]
    },
    {
      "cell_type": "code",
      "source": [
        "b = np.array([[45,768,456,324,78],[34,49,65,234,65]])"
      ],
      "metadata": {
        "id": "3LvayyXKdyTN"
      },
      "execution_count": null,
      "outputs": []
    },
    {
      "cell_type": "code",
      "source": [
        "b.reshape(5,2)"
      ],
      "metadata": {
        "colab": {
          "base_uri": "https://localhost:8080/"
        },
        "id": "CTubFw6bd5Kd",
        "outputId": "9af5b100-fcf5-4a6f-87be-b5a6d7d39f09"
      },
      "execution_count": null,
      "outputs": [
        {
          "output_type": "execute_result",
          "data": {
            "text/plain": [
              "array([[ 45, 768],\n",
              "       [456, 324],\n",
              "       [ 78,  34],\n",
              "       [ 49,  65],\n",
              "       [234,  65]])"
            ]
          },
          "metadata": {},
          "execution_count": 7
        }
      ]
    },
    {
      "cell_type": "markdown",
      "source": [
        "Eigenvectors are the vectors (non-zero) that do not change the direction when any linear transformation is applied. It changes by only a scalar factor."
      ],
      "metadata": {
        "id": "SABUmx9RR9Ql"
      }
    },
    {
      "cell_type": "code",
      "source": [
        "m = np.array([[45,768],[34,49]])\n",
        "from scipy import linalg as lin\n",
        "lin.det(m)\n",
        "eg_val,eg_vect = lin.eig(m)\n",
        "print(eg_val)\n",
        "print(eg_vect)"
      ],
      "metadata": {
        "colab": {
          "base_uri": "https://localhost:8080/"
        },
        "id": "oJjXUsFgfDo1",
        "outputId": "f182ca40-ecc0-4da2-efc5-82f1600e2a7f"
      },
      "execution_count": null,
      "outputs": [
        {
          "output_type": "stream",
          "name": "stdout",
          "text": [
            "[-114.60445538+0.j  208.60445538+0.j]\n",
            "[[-0.97908098 -0.978054  ]\n",
            " [ 0.20347095 -0.20835155]]\n"
          ]
        }
      ]
    },
    {
      "cell_type": "code",
      "source": [
        "import matplotlib.pyplot as plt\n",
        "x = [2,4,7,12,34]\n",
        "y = [57,23,78,32,76]\n",
        "z = [23,45,23,54,23]\n",
        "plt.plot(x,y,'*--',label = 'celcuis')\n",
        "plt.plot(x,z, label = 'farheint')\n",
        "plt.legend()\n",
        "plt.show()"
      ],
      "metadata": {
        "colab": {
          "base_uri": "https://localhost:8080/",
          "height": 267
        },
        "id": "iNuN8rOfgKP1",
        "outputId": "91ed973b-1b58-41c6-ad07-223b86ad046f"
      },
      "execution_count": null,
      "outputs": [
        {
          "output_type": "display_data",
          "data": {
            "text/plain": [
              "<Figure size 432x288 with 1 Axes>"
            ],
            "image/png": "[encoded data removed]"
          },
          "metadata": {
            "needs_background": "light"
          }
        }
      ]
    },
    {
      "cell_type": "code",
      "source": [
        "x1 = [2,4,7,12,34]\n",
        "y1 = [57,23,78,32,76]\n",
        "\n",
        "plt.subplot(1,2,1)\n",
        "plt.plot(x1,y1)\n",
        "\n",
        "x2 = [23,56,21,32,54]\n",
        "y2 = [9,12,76,34,43]\n",
        "\n",
        "plt.subplot(1,2,2)\n",
        "plt.plot(x2,y2)\n",
        "\n",
        "plt.plot()"
      ],
      "metadata": {
        "colab": {
          "base_uri": "https://localhost:8080/"
        },
        "id": "z3x0_TFtoJRE",
        "outputId": "572ba63a-8be8-4688-f9e3-1f2e151889d0"
      },
      "execution_count": null,
      "outputs": [
        {
          "output_type": "execute_result",
          "data": {
            "text/plain": [
              "[]"
            ]
          },
          "metadata": {},
          "execution_count": 2
        },
        {
          "output_type": "display_data",
          "data": {
            "text/plain": [
              "<Figure size 432x288 with 2 Axes>"
            ],
            "image/png": "[encoded data removed]"
          },
          "metadata": {
            "needs_background": "light"
          }
        }
      ]
    }
  ]
}